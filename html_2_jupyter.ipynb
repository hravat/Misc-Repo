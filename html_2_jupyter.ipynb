{
 "cells": [
  {
   "cell_type": "code",
   "execution_count": 17,
   "metadata": {},
   "outputs": [],
   "source": [
    "from bs4 import BeautifulSoup\n",
    "import json\n",
    "import urllib.request\n",
    "import glob \n",
    "#url = 'http://nbviewer.jupyter.org/url/jakevdp.github.com/downloads/notebooks/XKCD_plots.ipynb'\n",
    "#response = urllib.request.urlopen(url)\n",
    "#  for local html file\n",
    "\n",
    "\n",
    "def html_2_ipynb(v_path):\n",
    "    response = open(v_path)\n",
    "    text = response.read()\n",
    "\n",
    "    soup = BeautifulSoup(text, 'lxml')\n",
    "    # see some of the html\n",
    "    #print(soup.div)\n",
    "    dictionary = {'nbformat': 4, 'nbformat_minor': 1, 'cells': [], 'metadata': {}}\n",
    "    for d in soup.findAll(\"div\"):\n",
    "        if 'class' in d.attrs.keys():\n",
    "            for clas in d.attrs[\"class\"]:\n",
    "                if clas in [\"text_cell_render\", \"input_area\"]:\n",
    "                # code cell\n",
    "                    if clas == \"input_area\":\n",
    "                        cell = {}\n",
    "                        cell['metadata'] = {}\n",
    "                        cell['outputs'] = []\n",
    "                        cell['source'] = [d.get_text()]\n",
    "                        cell['execution_count'] = None\n",
    "                        cell['cell_type'] = 'code'\n",
    "                        dictionary['cells'].append(cell)\n",
    "\n",
    "                    else:\n",
    "                        cell = {}\n",
    "                        cell['metadata'] = {}\n",
    "\n",
    "                        cell['source'] = [d.decode_contents()]\n",
    "                        cell['cell_type'] = 'markdown'\n",
    "                        dictionary['cells'].append(cell)\n",
    "    open(v_path[0:len(v_path)-5]+'.ipynb', 'w').write(json.dumps(dictionary))"
   ]
  },
  {
   "cell_type": "code",
   "execution_count": 38,
   "metadata": {},
   "outputs": [],
   "source": [
    "for name in glob.glob('R-for-Data-Science-and-Machine-Learning/R-for-Data-Science-and-Machine-Learning/Basics of R and Data Types/R Basics/*.html'): \n",
    "    html_2_ipynb(name) "
   ]
  },
  {
   "cell_type": "code",
   "execution_count": null,
   "metadata": {},
   "outputs": [],
   "source": []
  }
 ],
 "metadata": {
  "kernelspec": {
   "display_name": "Python 3",
   "language": "python",
   "name": "python3"
  },
  "language_info": {
   "codemirror_mode": {
    "name": "ipython",
    "version": 3
   },
   "file_extension": ".py",
   "mimetype": "text/x-python",
   "name": "python",
   "nbconvert_exporter": "python",
   "pygments_lexer": "ipython3",
   "version": "3.7.5"
  }
 },
 "nbformat": 4,
 "nbformat_minor": 4
}
